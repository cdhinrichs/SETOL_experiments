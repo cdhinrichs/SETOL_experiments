{
 "cells": [
  {
   "cell_type": "code",
   "execution_count": null,
   "id": "c8509729-948b-4894-85c3-651cd811c30d",
   "metadata": {},
   "outputs": [],
   "source": [
    "! pip install weightwatcher  transformers "
   ]
  },
  {
   "cell_type": "markdown",
   "id": "6b4c511f-02cd-4cd0-9ccc-e5eebb543cea",
   "metadata": {},
   "source": [
    "## Model training in pytorch\n",
    "\n",
    "This notebook shows how to train the models used in the emperical section of the paper. This notebook has the pytorch implementation. For the keras implementation, see `WW_MLP3_Training_pytorch.ipynb`."
   ]
  },
  {
   "cell_type": "code",
   "execution_count": 1,
   "id": "6082f800-fc28-4f47-bc41-da52dd638ea0",
   "metadata": {
    "tags": []
   },
   "outputs": [],
   "source": [
    "import os\n",
    "os.chdir(\"../pytorch\")"
   ]
  },
  {
   "cell_type": "code",
   "execution_count": 2,
   "id": "a6ce3cc7-50ed-4e40-bde0-834e7353d124",
   "metadata": {
    "tags": []
   },
   "outputs": [],
   "source": [
    "import sys\n",
    "from pathlib import Path\n",
    "from time import time\n",
    "\n",
    "import numpy as np\n",
    "import pandas as pd\n",
    "\n",
    "import torch\n",
    "from torch.utils.data import DataLoader, Dataset\n",
    "\n",
    "from weightwatcher import WeightWatcher \n",
    "\n",
    "from matplotlib import pyplot as plt\n",
    "\n",
    "from utils import last_epoch\n",
    "from trainer import Trainer, PreLoader\n",
    "from pildataset import PILDataSet\n",
    "from models import MLP2"
   ]
  },
  {
   "cell_type": "markdown",
   "id": "b39e8ca0-f865-4bd3-bc89-fcdce9f0beb6",
   "metadata": {},
   "source": [
    "### Set up the various random seeds for replicability"
   ]
  },
  {
   "cell_type": "code",
   "execution_count": 3,
   "id": "ea09c4e3-ca69-48f6-a1bf-d872ad82b174",
   "metadata": {
    "tags": []
   },
   "outputs": [],
   "source": [
    "#NOTE: changing this value requires resetting the notebook kernel.\n",
    "DETERMINISTIC = True\n",
    "\n",
    "if DETERMINISTIC:\n",
    "    import random\n",
    "    import os\n",
    "\n",
    "    os.environ[\"CUBLAS_WORKSPACE_CONFIG\"] = \":4096:8\"\n",
    "\n",
    "    torch.use_deterministic_algorithms(True)\n",
    "    def reset_random_seeds(seed_value=1):\n",
    "        os.environ['PYTHONHASHSEED']=str(seed_value)\n",
    "        torch.manual_seed(0)\n",
    "        np.random.seed(seed_value)\n",
    "        random.seed(seed_value)\n",
    "\n",
    "    reset_random_seeds()\n",
    "else:\n",
    "    reset_random_seeds = lambda: None"
   ]
  },
  {
   "cell_type": "markdown",
   "id": "dcb4c11e-4c4f-40f5-967a-2e0c107acc76",
   "metadata": {},
   "source": [
    "### Train a test run."
   ]
  },
  {
   "cell_type": "code",
   "execution_count": 6,
   "id": "34c16218-89f1-4bd5-8de0-763fee03f5e3",
   "metadata": {
    "tags": []
   },
   "outputs": [
    {
     "name": "stdout",
     "output_type": "stream",
     "text": [
      "DETERMINISTIC set to True\n",
      "SETOL/TEST run 0 epoch 1 loss 0.6368 train accuracy 0.8505 test accuracy 0.9118 22.39 seconds\t alpha 1 4.570\t alpha 2 14.347\n",
      "SETOL/TEST run 0 epoch 2 loss 0.3296 train accuracy 0.9141 test accuracy 0.9256 22.49 seconds\t alpha 1 3.860\t alpha 2 14.347\n",
      "SETOL/TEST run 0 epoch 3 loss 0.2774 train accuracy 0.9257 test accuracy 0.9336 19.78 seconds\t alpha 1 3.611\t alpha 2 14.347\n",
      "SETOL/TEST run 0 epoch 4 loss 0.2484 train accuracy 0.9333 test accuracy 0.9368 22.19 seconds\t alpha 1 3.500\t alpha 2 14.347\n",
      "SETOL/TEST run 0 epoch 5 loss 0.2284 train accuracy 0.9384 test accuracy 0.9421 22.05 seconds\t alpha 1 3.415\t alpha 2 14.347\n",
      "\n",
      "\n",
      "SETOL/TEST run 1 epoch 1 loss 0.6368 train accuracy 0.8505 test accuracy 0.9118 22.53 seconds\t alpha 1 4.570\t alpha 2 14.347\n",
      "SETOL/TEST run 1 epoch 2 loss 0.3296 train accuracy 0.9141 test accuracy 0.9256 22.08 seconds\t alpha 1 3.860\t alpha 2 14.347\n",
      "SETOL/TEST run 1 epoch 3 loss 0.2774 train accuracy 0.9257 test accuracy 0.9336 22.03 seconds\t alpha 1 3.611\t alpha 2 14.347\n",
      "SETOL/TEST run 1 epoch 4 loss 0.2484 train accuracy 0.9333 test accuracy 0.9368 22.24 seconds\t alpha 1 3.500\t alpha 2 14.347\n",
      "SETOL/TEST run 1 epoch 5 loss 0.2284 train accuracy 0.9384 test accuracy 0.9421 22.46 seconds\t alpha 1 3.415\t alpha 2 14.347\n",
      "\n",
      "\n",
      "SETOL/TEST run 2 epoch 1 loss 0.6368 train accuracy 0.8505 test accuracy 0.9118 22.17 seconds\t alpha 1 4.570\t alpha 2 14.347\n",
      "SETOL/TEST run 2 epoch 2 loss 0.3296 train accuracy 0.9141 test accuracy 0.9256 21.70 seconds\t alpha 1 3.860\t alpha 2 14.347\n",
      "SETOL/TEST run 2 epoch 3 loss 0.2774 train accuracy 0.9257 test accuracy 0.9336 21.88 seconds\t alpha 1 3.611\t alpha 2 14.347\n",
      "SETOL/TEST run 2 epoch 4 loss 0.2484 train accuracy 0.9333 test accuracy 0.9368 22.11 seconds\t alpha 1 3.500\t alpha 2 14.347\n",
      "SETOL/TEST run 2 epoch 5 loss 0.2284 train accuracy 0.9384 test accuracy 0.9421 22.21 seconds\t alpha 1 3.415\t alpha 2 14.347\n",
      "\n",
      "\n",
      "SETOL/TEST run 3 epoch 1 loss 1.0780 train accuracy 0.7631 test accuracy 0.8499 21.85 seconds\t alpha 1 14.675\t alpha 2 3.011\n",
      "SETOL/TEST run 3 epoch 2 loss 0.5832 train accuracy 0.8576 test accuracy 0.8756 21.68 seconds\t alpha 1 14.675\t alpha 2 2.489\n",
      "SETOL/TEST run 3 epoch 3 loss 0.4851 train accuracy 0.8759 test accuracy 0.8877 22.40 seconds\t alpha 1 14.675\t alpha 2 2.300\n",
      "SETOL/TEST run 3 epoch 4 loss 0.4368 train accuracy 0.8855 test accuracy 0.8956 21.91 seconds\t alpha 1 14.675\t alpha 2 2.183\n",
      "SETOL/TEST run 3 epoch 5 loss 0.4063 train accuracy 0.8921 test accuracy 0.9003 21.98 seconds\t alpha 1 14.675\t alpha 2 2.099\n",
      "\n",
      "\n",
      "SETOL/TEST run 4 epoch 1 loss 1.0780 train accuracy 0.7631 test accuracy 0.8499 22.48 seconds\t alpha 1 14.675\t alpha 2 3.011\n",
      "SETOL/TEST run 4 epoch 2 loss 0.5832 train accuracy 0.8576 test accuracy 0.8756 21.96 seconds\t alpha 1 14.675\t alpha 2 2.489\n",
      "SETOL/TEST run 4 epoch 3 loss 0.4851 train accuracy 0.8759 test accuracy 0.8877 21.94 seconds\t alpha 1 14.675\t alpha 2 2.300\n",
      "SETOL/TEST run 4 epoch 4 loss 0.4368 train accuracy 0.8855 test accuracy 0.8956 22.02 seconds\t alpha 1 14.675\t alpha 2 2.183\n",
      "SETOL/TEST run 4 epoch 5 loss 0.4063 train accuracy 0.8921 test accuracy 0.9003 22.36 seconds\t alpha 1 14.675\t alpha 2 2.099\n"
     ]
    }
   ],
   "source": [
    "TRAIN = PILDataSet(True,  DS=\"MNIST\")\n",
    "TEST  = PILDataSet(False, DS=\"MNIST\")\n",
    "loader = PreLoader(\"MNIST\", TRAIN, TEST, batch_size=16)\n",
    "\n",
    "print(f\"DETERMINISTIC set to {DETERMINISTIC}\")\n",
    "\n",
    "reset_random_seeds()\n",
    "m = MLP2(widths=(300, 100), H=28, W=28, C=1)\n",
    "t = Trainer(m)\n",
    "\n",
    "t.train_loop(\"SETOL/TEST\", 0, 5, loader, LR=[0.01, 0, 0], loss=\"CCE\")\n",
    "print(\"\\n\")\n",
    "\n",
    "t.load(0, 0, \"SETOL/TEST\")\n",
    "reset_random_seeds()\n",
    "t.train_loop(\"SETOL/TEST\", 1, 5, loader, LR=[0.01, 0, 0], loss=\"CCE\")\n",
    "print(\"\\n\")\n",
    "\n",
    "# This time try initializing a new model\n",
    "reset_random_seeds()\n",
    "m = MLP2(widths=(300, 100), H=28, W=28, C=1)\n",
    "t = Trainer(m)\n",
    "t.train_loop(\"SETOL/TEST\", 2, 5, loader, LR=[0.01, 0, 0], loss=\"CCE\")\n",
    "print(\"\\n\")\n",
    "\n",
    "\n",
    "# Now try training the second layer\n",
    "t.load(0, 0, \"SETOL/TEST\")\n",
    "reset_random_seeds()\n",
    "t.train_loop(\"SETOL/TEST\", 3, 5, loader, LR=[0, 0.01, 0], loss=\"CCE\")\n",
    "print(\"\\n\")\n",
    "\n",
    "t.load(0, 0, \"SETOL/TEST\")\n",
    "reset_random_seeds()\n",
    "t.train_loop(\"SETOL/TEST\", 4, 5, loader, LR=[0, 0.01, 0], loss=\"CCE\")"
   ]
  },
  {
   "cell_type": "markdown",
   "id": "57dc687f-af8b-4cf9-9221-46226c4f9461",
   "metadata": {
    "tags": []
   },
   "source": [
    "### Training the whole set\n",
    "\n",
    "It is recommended to run `train_models` in a screen/tmux session because it could take a long time to run, and because multiple runs can be done concurrently. Nevertheless, here is an example of how to call its `main` function."
   ]
  },
  {
   "cell_type": "code",
   "execution_count": null,
   "id": "203b9342-7009-4464-925d-799f57b6e203",
   "metadata": {},
   "outputs": [],
   "source": [
    "from train_models import main\n",
    "\n",
    "main(\"MNIST\", 5, True, 6, WHITEN=False)"
   ]
  }
 ],
 "metadata": {
  "kernelspec": {
   "display_name": "Python 3 (ipykernel)",
   "language": "python",
   "name": "python3"
  },
  "language_info": {
   "codemirror_mode": {
    "name": "ipython",
    "version": 3
   },
   "file_extension": ".py",
   "mimetype": "text/x-python",
   "name": "python",
   "nbconvert_exporter": "python",
   "pygments_lexer": "ipython3",
   "version": "3.9.12"
  }
 },
 "nbformat": 4,
 "nbformat_minor": 5
}
